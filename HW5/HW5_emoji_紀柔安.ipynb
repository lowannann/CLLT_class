{
  "cells": [
    {
      "cell_type": "markdown",
      "metadata": {
        "id": "xsOzLb9nJaZ7"
      },
      "source": [
        "這次我們分析「帶有 emoji 的text 」的情緒，以及哪些 「emoji 本身情緒」會不同於它「所在 text 的情緒」。\n",
        "\n",
        "作業分成 3 個部分，分別是前處理、情緒分析、情緒衝突的emoji詞頻。\n",
        "\n",
        "**`每一部分皆有需呈現的結果`** ，繳交之前請確認每個部分的每個配分項目都有output 😉\n",
        "\n"
      ]
    },
    {
      "cell_type": "markdown",
      "metadata": {
        "id": "GTaxiiyWp7jT"
      },
      "source": [
        "\n",
        "\n",
        "---\n",
        "\n"
      ]
    },
    {
      "cell_type": "markdown",
      "metadata": {
        "id": "MB5gPwrN7nXa"
      },
      "source": [
        "# 第一部分：前處理"
      ]
    },
    {
      "cell_type": "markdown",
      "metadata": {
        "id": "ttFVAI3EJaZ_"
      },
      "source": [
        "1. 讀取語料 `emoji_1000.csv` ，並用 `emoji module` 將每一句文本出現的 emoji 轉成英文解釋 (demojize)\n",
        "\n",
        "2. 讀取 emoji 解釋對應表 `emoji_defintion.csv` ，並將 **前一步的英文解釋** 轉換成繁體中文。\n",
        "   \n",
        "   ⚠️注意：emoji 的英文解釋前後都有冒號，轉換成中文後，用**底線**將 emoji 連接在**句尾**⚠️\n",
        "\n",
        "   ```\n",
        "    \"看的真的是又愛又虐😍\"\n",
        "   會先變成：看的真的是又愛又虐:smiling_face_with_heart-eyes: \n",
        "   再變成：看的真的是又愛又虐_心眼笑臉    \n",
        "   \n",
        "   \"🌟天婦羅（時蔬）\"\n",
        "   會先變成： 天婦羅（時蔬）:glowing_star:\n",
        "   再變成： 天婦羅（時蔬）_發光的星星\n",
        "   ```\n",
        "\n",
        "3. 請整理你的資料做出一個 df，依照下方範例的欄位名稱來命名，**顯示出 df[202:207]**\n",
        "\n",
        "   ⚠️注意：不要顯示 df.head() ❌❌❌\n",
        "\n",
        "   ⚠️注意：當一個句子有多個 emoji 時，請以半型逗號連結成string，再將這個string放入 emoji_only 欄（參考下方範例中 id 205 的句子）\n",
        "\n",
        "\n",
        "> 配分方式\n",
        "- step 1.  (10%)\n",
        "- step 2. (10%)\n",
        "- step 3. (20%)  df[202:207]"
      ]
    },
    {
      "cell_type": "code",
      "execution_count": 1,
      "metadata": {
        "id": "FNTZ_uWyAFmC"
      },
      "outputs": [
        {
          "name": "stdout",
          "output_type": "stream",
          "text": [
            "Requirement already satisfied: emoji in /Library/Frameworks/Python.framework/Versions/3.8/lib/python3.8/site-packages (2.2.0)\n",
            "Note: you may need to restart the kernel to use updated packages.\n"
          ]
        }
      ],
      "source": [
        "## emoji module\n",
        "%pip install emoji --upgrade"
      ]
    },
    {
      "cell_type": "code",
      "execution_count": 2,
      "metadata": {},
      "outputs": [
        {
          "data": {
            "text/html": [
              "<div>\n",
              "<style scoped>\n",
              "    .dataframe tbody tr th:only-of-type {\n",
              "        vertical-align: middle;\n",
              "    }\n",
              "\n",
              "    .dataframe tbody tr th {\n",
              "        vertical-align: top;\n",
              "    }\n",
              "\n",
              "    .dataframe thead th {\n",
              "        text-align: right;\n",
              "    }\n",
              "</style>\n",
              "<table border=\"1\" class=\"dataframe\">\n",
              "  <thead>\n",
              "    <tr style=\"text-align: right;\">\n",
              "      <th></th>\n",
              "      <th>Unnamed: 0</th>\n",
              "      <th>sentence</th>\n",
              "    </tr>\n",
              "  </thead>\n",
              "  <tbody>\n",
              "    <tr>\n",
              "      <th>0</th>\n",
              "      <td>0</td>\n",
              "      <td>還你一個清爽暢通的寶鼻(⁎⁍̴̛ᴗ⁍̴̛⁎)！❤️</td>\n",
              "    </tr>\n",
              "    <tr>\n",
              "      <th>1</th>\n",
              "      <td>1</td>\n",
              "      <td>為今日難吃的涼麵做個紀錄😤</td>\n",
              "    </tr>\n",
              "    <tr>\n",
              "      <th>2</th>\n",
              "      <td>2</td>\n",
              "      <td>前幾天的照片真的慘不忍睹😂</td>\n",
              "    </tr>\n",
              "    <tr>\n",
              "      <th>3</th>\n",
              "      <td>3</td>\n",
              "      <td>🌟天婦羅（時蔬）</td>\n",
              "    </tr>\n",
              "    <tr>\n",
              "      <th>4</th>\n",
              "      <td>4</td>\n",
              "      <td>看的真的是又愛又虐😍</td>\n",
              "    </tr>\n",
              "    <tr>\n",
              "      <th>...</th>\n",
              "      <td>...</td>\n",
              "      <td>...</td>\n",
              "    </tr>\n",
              "    <tr>\n",
              "      <th>994</th>\n",
              "      <td>994</td>\n",
              "      <td>今年的我決定未來都要把每一天都過得開心愉快🤩</td>\n",
              "    </tr>\n",
              "    <tr>\n",
              "      <th>995</th>\n",
              "      <td>995</td>\n",
              "      <td>沒有之一😍😍</td>\n",
              "    </tr>\n",
              "    <tr>\n",
              "      <th>996</th>\n",
              "      <td>996</td>\n",
              "      <td>很容易在沒有乾的情況下染到眼皮上💦</td>\n",
              "    </tr>\n",
              "    <tr>\n",
              "      <th>997</th>\n",
              "      <td>997</td>\n",
              "      <td>一直很想要的格子西外終於入手😌很保暖！</td>\n",
              "    </tr>\n",
              "    <tr>\n",
              "      <th>998</th>\n",
              "      <td>998</td>\n",
              "      <td>還問「好吃嘛？」😍</td>\n",
              "    </tr>\n",
              "  </tbody>\n",
              "</table>\n",
              "<p>999 rows × 2 columns</p>\n",
              "</div>"
            ],
            "text/plain": [
              "     Unnamed: 0                   sentence\n",
              "0             0  還你一個清爽暢通的寶鼻(⁎⁍̴̛ᴗ⁍̴̛⁎)！❤️\n",
              "1             1              為今日難吃的涼麵做個紀錄😤\n",
              "2             2              前幾天的照片真的慘不忍睹😂\n",
              "3             3                   🌟天婦羅（時蔬）\n",
              "4             4                 看的真的是又愛又虐😍\n",
              "..          ...                        ...\n",
              "994         994     今年的我決定未來都要把每一天都過得開心愉快🤩\n",
              "995         995                     沒有之一😍😍\n",
              "996         996          很容易在沒有乾的情況下染到眼皮上💦\n",
              "997         997        一直很想要的格子西外終於入手😌很保暖！\n",
              "998         998                  還問「好吃嘛？」😍\n",
              "\n",
              "[999 rows x 2 columns]"
            ]
          },
          "execution_count": 2,
          "metadata": {},
          "output_type": "execute_result"
        }
      ],
      "source": [
        "import pandas as pd\n",
        "df=pd.read_csv('emoji_1000.csv')\n",
        "df"
      ]
    },
    {
      "cell_type": "code",
      "execution_count": 3,
      "metadata": {},
      "outputs": [],
      "source": [
        "import emoji"
      ]
    },
    {
      "cell_type": "code",
      "execution_count": 4,
      "metadata": {},
      "outputs": [
        {
          "data": {
            "text/plain": [
              "['我就突然啜泣哭了:loudly_crying_face:（我原本以為只會默默流眼淚',\n",
              " '每次都說粗重的我來，妳在旁邊等:face_with_tears_of_joy:',\n",
              " '不見不散:two_hearts:',\n",
              " '放個假沒想到也換我發生悲劇了:loudly_crying_face::loudly_crying_face::loudly_crying_face:',\n",
              " '希望照片妳滿意啦:oncoming_fist_light_skin_tone:']"
            ]
          },
          "execution_count": 4,
          "metadata": {},
          "output_type": "execute_result"
        }
      ],
      "source": [
        "demojized_list=[]\n",
        "\n",
        "for sentence in df['sentence']:\n",
        "    demojized = emoji.demojize(sentence)\n",
        "    demojized_list.append(demojized)\n",
        "demojized_list[202:207]"
      ]
    },
    {
      "cell_type": "code",
      "execution_count": 5,
      "metadata": {},
      "outputs": [
        {
          "data": {
            "text/plain": [
              "['我就突然啜泣哭了（我原本以為只會默默流眼淚 :loudly_crying_face:',\n",
              " '每次都說粗重的我來，妳在旁邊等 :face_with_tears_of_joy:',\n",
              " '不見不散 :two_hearts:',\n",
              " '放個假沒想到也換我發生悲劇了 :loudly_crying_face: :loudly_crying_face: :loudly_crying_face:',\n",
              " '希望照片妳滿意啦 :oncoming_fist_light_skin_tone:']"
            ]
          },
          "execution_count": 5,
          "metadata": {},
          "output_type": "execute_result"
        }
      ],
      "source": [
        "#將 emoji 置於句尾\n",
        "\n",
        "import re \n",
        "\n",
        "# Define a regular expression pattern to match emojis\n",
        "emoji_pattern = re.compile(r':\\w+:')\n",
        "\n",
        "end_emoji=[]\n",
        "\n",
        "for sentence in demojized_list:\n",
        "    matches = emoji_pattern.findall(sentence)\n",
        "    \n",
        "    if matches:\n",
        "        for emoji in matches:\n",
        "            sentence = sentence.replace(emoji, '')\n",
        "        \n",
        "        sentence = sentence.strip() + ' ' + ' '.join(matches)\n",
        "    \n",
        "    end_emoji.append(sentence)\n",
        "end_emoji[202:207]"
      ]
    },
    {
      "cell_type": "code",
      "execution_count": 6,
      "metadata": {},
      "outputs": [
        {
          "data": {
            "text/html": [
              "<div>\n",
              "<style scoped>\n",
              "    .dataframe tbody tr th:only-of-type {\n",
              "        vertical-align: middle;\n",
              "    }\n",
              "\n",
              "    .dataframe tbody tr th {\n",
              "        vertical-align: top;\n",
              "    }\n",
              "\n",
              "    .dataframe thead th {\n",
              "        text-align: right;\n",
              "    }\n",
              "</style>\n",
              "<table border=\"1\" class=\"dataframe\">\n",
              "  <thead>\n",
              "    <tr style=\"text-align: right;\">\n",
              "      <th></th>\n",
              "      <th>emoji</th>\n",
              "      <th>en</th>\n",
              "      <th>clean_en</th>\n",
              "      <th>zh-TW</th>\n",
              "    </tr>\n",
              "  </thead>\n",
              "  <tbody>\n",
              "    <tr>\n",
              "      <th>0</th>\n",
              "      <td>🥇</td>\n",
              "      <td>:1st_place_medal:</td>\n",
              "      <td>1st place medal</td>\n",
              "      <td>第一名獎牌</td>\n",
              "    </tr>\n",
              "    <tr>\n",
              "      <th>1</th>\n",
              "      <td>🥈</td>\n",
              "      <td>:2nd_place_medal:</td>\n",
              "      <td>2nd place medal</td>\n",
              "      <td>第二名獎牌</td>\n",
              "    </tr>\n",
              "    <tr>\n",
              "      <th>2</th>\n",
              "      <td>🥉</td>\n",
              "      <td>:3rd_place_medal:</td>\n",
              "      <td>3rd place medal</td>\n",
              "      <td>第三名獎牌</td>\n",
              "    </tr>\n",
              "    <tr>\n",
              "      <th>3</th>\n",
              "      <td>🅰</td>\n",
              "      <td>:A_button_(blood_type):</td>\n",
              "      <td>A button (blood type)</td>\n",
              "      <td>A鈕（血型）</td>\n",
              "    </tr>\n",
              "    <tr>\n",
              "      <th>4</th>\n",
              "      <td>♈</td>\n",
              "      <td>:Aries:</td>\n",
              "      <td>Aries</td>\n",
              "      <td>白羊座</td>\n",
              "    </tr>\n",
              "  </tbody>\n",
              "</table>\n",
              "</div>"
            ],
            "text/plain": [
              "  emoji                       en               clean_en   zh-TW\n",
              "0     🥇        :1st_place_medal:        1st place medal   第一名獎牌\n",
              "1     🥈        :2nd_place_medal:        2nd place medal   第二名獎牌\n",
              "2     🥉        :3rd_place_medal:        3rd place medal   第三名獎牌\n",
              "3     🅰  :A_button_(blood_type):  A button (blood type)  A鈕（血型）\n",
              "4     ♈                  :Aries:                  Aries     白羊座"
            ]
          },
          "execution_count": 6,
          "metadata": {},
          "output_type": "execute_result"
        }
      ],
      "source": [
        "emoji_df = pd.read_csv('emoji_definition.csv')\n",
        "emoji_df.head()"
      ]
    },
    {
      "cell_type": "code",
      "execution_count": 7,
      "metadata": {},
      "outputs": [
        {
          "name": "stdout",
          "output_type": "stream",
          "text": [
            "{0: {'emoji': '🥇', 'en': ':1st_place_medal:', 'clean_en': '1st place medal', 'zh-TW': '第一名獎牌'}, 1: {'emoji': '🥈', 'en': ':2nd_place_medal:', 'clean_en': '2nd place medal', 'zh-TW': '第二名獎牌'}, 2: {'emoji': '🥉', 'en': ':3rd_place_medal:', 'clean_en': '3rd place medal', 'zh-TW': '第三名獎牌'}, 3: {'emoji': '🅰', 'en': ':A_button_(blood_type):', 'clean_en': 'A button (blood type)', 'zh-TW': 'A鈕（血型）'}, 4: {'emoji': '♈', 'en': ':Aries:', 'clean_en': 'Aries', 'zh-TW': '白羊座'}}\n"
          ]
        }
      ],
      "source": [
        "#轉換成 dic\n",
        "new_emoji_dic = emoji_df.to_dict('index')\n",
        "\n",
        "#怕結果太長，所以做了切片，顯示五個就好：）\n",
        "short_dict = {k: v for k, v in new_emoji_dic.items() if k < 5}\n",
        "print(short_dict)"
      ]
    },
    {
      "cell_type": "code",
      "execution_count": 8,
      "metadata": {},
      "outputs": [
        {
          "data": {
            "text/plain": [
              "['我就突然啜泣哭了（我原本以為只會默默流眼淚 _大聲哭泣的臉',\n",
              " '每次都說粗重的我來，妳在旁邊等 _滿臉喜悅的淚水',\n",
              " '不見不散 _兩顆心',\n",
              " '放個假沒想到也換我發生悲劇了 _大聲哭泣的臉 _大聲哭泣的臉 _大聲哭泣的臉',\n",
              " '希望照片妳滿意啦 _迎面而來的拳頭淺膚色']"
            ]
          },
          "execution_count": 8,
          "metadata": {},
          "output_type": "execute_result"
        }
      ],
      "source": [
        "#text_emoji\n",
        "for i, text in enumerate(end_emoji):\n",
        "    for key, value in new_emoji_dic.items():\n",
        "        if value['en'] in text:\n",
        "            end_emoji[i] = text.replace(value['en'], f\"_{value['zh-TW']}\")\n",
        "    for key, value in new_emoji_dic.items():\n",
        "        if value['en'] in end_emoji[i]:\n",
        "            end_emoji[i] = end_emoji[i].replace(value['en'], f\"_{value['zh-TW']}\")\n",
        "end_emoji[202:207]"
      ]
    },
    {
      "cell_type": "code",
      "execution_count": 9,
      "metadata": {},
      "outputs": [
        {
          "data": {
            "text/plain": [
              "['大聲哭泣的臉', '滿臉喜悅的淚水', '兩顆心', '大聲哭泣的臉, 大聲哭泣的臉, 大聲哭泣的臉', '迎面而來的拳頭淺膚色']"
            ]
          },
          "execution_count": 9,
          "metadata": {},
          "output_type": "execute_result"
        }
      ],
      "source": [
        "#emo-only\n",
        "emo_only = []\n",
        "\n",
        "for text in end_emoji:\n",
        "    emoji_list = text.split('_')[1:]\n",
        "    if len(emoji_list) == 1:\n",
        "        emo_only.append(emoji_list[0].strip())\n",
        "    else:\n",
        "        emo_only.append(\", \".join([emoji.strip() for emoji in emoji_list]))\n",
        "\n",
        "emo_only[202:207]"
      ]
    },
    {
      "cell_type": "code",
      "execution_count": 10,
      "metadata": {},
      "outputs": [
        {
          "data": {
            "text/plain": [
              "['我就突然啜泣哭了（我原本以為只會默默流眼淚 ',\n",
              " '每次都說粗重的我來，妳在旁邊等 ',\n",
              " '不見不散 ',\n",
              " '放個假沒想到也換我發生悲劇了 ',\n",
              " '希望照片妳滿意啦 ']"
            ]
          },
          "execution_count": 10,
          "metadata": {},
          "output_type": "execute_result"
        }
      ],
      "source": [
        "#text-only\n",
        "text_only = []\n",
        "for text in end_emoji:\n",
        "    text_only.append(text.split('_')[0])      \n",
        "\n",
        "text_only[202:207]"
      ]
    },
    {
      "cell_type": "code",
      "execution_count": 11,
      "metadata": {},
      "outputs": [
        {
          "data": {
            "text/plain": [
              "['我就突然啜泣哭了😭（我原本以為只會默默流眼淚',\n",
              " '每次都說粗重的我來，妳在旁邊等😂',\n",
              " '不見不散💕',\n",
              " '放個假沒想到也換我發生悲劇了😭😭😭',\n",
              " '希望照片妳滿意啦👊🏻']"
            ]
          },
          "execution_count": 11,
          "metadata": {},
          "output_type": "execute_result"
        }
      ],
      "source": [
        "#sentence\n",
        "df_list=df['sentence'].values.tolist()\n",
        "df_list[202:207]"
      ]
    },
    {
      "cell_type": "code",
      "execution_count": 12,
      "metadata": {},
      "outputs": [
        {
          "data": {
            "text/html": [
              "<div>\n",
              "<style scoped>\n",
              "    .dataframe tbody tr th:only-of-type {\n",
              "        vertical-align: middle;\n",
              "    }\n",
              "\n",
              "    .dataframe tbody tr th {\n",
              "        vertical-align: top;\n",
              "    }\n",
              "\n",
              "    .dataframe thead th {\n",
              "        text-align: right;\n",
              "    }\n",
              "</style>\n",
              "<table border=\"1\" class=\"dataframe\">\n",
              "  <thead>\n",
              "    <tr style=\"text-align: right;\">\n",
              "      <th></th>\n",
              "      <th>sentence</th>\n",
              "      <th>text_only</th>\n",
              "      <th>emo-only</th>\n",
              "      <th>text_emoji</th>\n",
              "    </tr>\n",
              "  </thead>\n",
              "  <tbody>\n",
              "    <tr>\n",
              "      <th>202</th>\n",
              "      <td>我就突然啜泣哭了😭（我原本以為只會默默流眼淚</td>\n",
              "      <td>我就突然啜泣哭了（我原本以為只會默默流眼淚</td>\n",
              "      <td>大聲哭泣的臉</td>\n",
              "      <td>我就突然啜泣哭了（我原本以為只會默默流眼淚 _大聲哭泣的臉</td>\n",
              "    </tr>\n",
              "    <tr>\n",
              "      <th>203</th>\n",
              "      <td>每次都說粗重的我來，妳在旁邊等😂</td>\n",
              "      <td>每次都說粗重的我來，妳在旁邊等</td>\n",
              "      <td>滿臉喜悅的淚水</td>\n",
              "      <td>每次都說粗重的我來，妳在旁邊等 _滿臉喜悅的淚水</td>\n",
              "    </tr>\n",
              "    <tr>\n",
              "      <th>204</th>\n",
              "      <td>不見不散💕</td>\n",
              "      <td>不見不散</td>\n",
              "      <td>兩顆心</td>\n",
              "      <td>不見不散 _兩顆心</td>\n",
              "    </tr>\n",
              "    <tr>\n",
              "      <th>205</th>\n",
              "      <td>放個假沒想到也換我發生悲劇了😭😭😭</td>\n",
              "      <td>放個假沒想到也換我發生悲劇了</td>\n",
              "      <td>大聲哭泣的臉, 大聲哭泣的臉, 大聲哭泣的臉</td>\n",
              "      <td>放個假沒想到也換我發生悲劇了 _大聲哭泣的臉 _大聲哭泣的臉 _大聲哭泣的臉</td>\n",
              "    </tr>\n",
              "    <tr>\n",
              "      <th>206</th>\n",
              "      <td>希望照片妳滿意啦👊🏻</td>\n",
              "      <td>希望照片妳滿意啦</td>\n",
              "      <td>迎面而來的拳頭淺膚色</td>\n",
              "      <td>希望照片妳滿意啦 _迎面而來的拳頭淺膚色</td>\n",
              "    </tr>\n",
              "  </tbody>\n",
              "</table>\n",
              "</div>"
            ],
            "text/plain": [
              "                   sentence               text_only                emo-only  \\\n",
              "202  我就突然啜泣哭了😭（我原本以為只會默默流眼淚  我就突然啜泣哭了（我原本以為只會默默流眼淚                   大聲哭泣的臉   \n",
              "203        每次都說粗重的我來，妳在旁邊等😂        每次都說粗重的我來，妳在旁邊等                  滿臉喜悅的淚水   \n",
              "204                   不見不散💕                   不見不散                      兩顆心   \n",
              "205       放個假沒想到也換我發生悲劇了😭😭😭         放個假沒想到也換我發生悲劇了   大聲哭泣的臉, 大聲哭泣的臉, 大聲哭泣的臉   \n",
              "206              希望照片妳滿意啦👊🏻               希望照片妳滿意啦               迎面而來的拳頭淺膚色   \n",
              "\n",
              "                                 text_emoji  \n",
              "202           我就突然啜泣哭了（我原本以為只會默默流眼淚 _大聲哭泣的臉  \n",
              "203                每次都說粗重的我來，妳在旁邊等 _滿臉喜悅的淚水  \n",
              "204                               不見不散 _兩顆心  \n",
              "205  放個假沒想到也換我發生悲劇了 _大聲哭泣的臉 _大聲哭泣的臉 _大聲哭泣的臉  \n",
              "206                    希望照片妳滿意啦 _迎面而來的拳頭淺膚色  "
            ]
          },
          "execution_count": 12,
          "metadata": {},
          "output_type": "execute_result"
        }
      ],
      "source": [
        "#合併\n",
        "\n",
        "col1 = pd.Series(df_list)\n",
        "col2 = pd.Series(text_only)\n",
        "col3 = pd.Series(emo_only)\n",
        "col4 = pd.Series(end_emoji)\n",
        "\n",
        "emoji_analysis = pd.DataFrame({'sentence': col1, 'text_only': col2, 'emo-only': col3, 'text_emoji': col4})\n",
        "emoji_analysis[202:207]"
      ]
    },
    {
      "cell_type": "markdown",
      "metadata": {
        "id": "ksLWcL_Tp92j"
      },
      "source": [
        "\n",
        "\n",
        "---\n",
        "\n"
      ]
    },
    {
      "cell_type": "markdown",
      "metadata": {
        "id": "8Uf3ZJZm7b4j"
      },
      "source": [
        "# 第二部分：情緒分析"
      ]
    },
    {
      "cell_type": "markdown",
      "metadata": {
        "id": "8V15oM9XJaZ_"
      },
      "source": [
        "1. 跑完前處理後，我們會得到一個 df，每一列都是一句 text 的相關資料。\n",
        "\n",
        "2. 請完成以下 setup 的 block，載入並利用此 classifier，以 「欄位」為單位，分別跑 text_only, emo_only, text_emoji 三組的情緒分析。\n",
        "3. 成功跑出情緒分析結果後，請與原本的 df 合併，**顯示出一個 senti_df**，請依照下方 `回答範例 DataFrame` 來命名欄位。\n",
        "   \n",
        "   - text_only 的情緒分析結果 存在 text_senti 欄\n",
        "   - emo_only 的情緒分析結果 存在 emoji_senti 欄\t\n",
        "   - text_emoji 的情緒分析結果 存在 txt_emo_senti 欄\n",
        "\n",
        "\n",
        "3. 利用前一步做好的 df，分別輸出 (text_senti, emoji_senti)、(text_senti, txt_emo_senti)、(emoji_senti, txt_emo_senti) 的 contingency table，**總共3️⃣個** 。請參考下方範例 block。\n",
        "\n",
        "> 配分方式\n",
        "- DataFrame (25%)\n",
        "- contingency table (15%，每一個table 5%)"
      ]
    },
    {
      "cell_type": "code",
      "execution_count": 13,
      "metadata": {
        "id": "LcxAU33K4NjE"
      },
      "outputs": [
        {
          "name": "stdout",
          "output_type": "stream",
          "text": [
            "Requirement already satisfied: transformers in /Library/Frameworks/Python.framework/Versions/3.8/lib/python3.8/site-packages (4.22.2)\n",
            "Requirement already satisfied: datasets in /Library/Frameworks/Python.framework/Versions/3.8/lib/python3.8/site-packages (2.11.0)\n",
            "Requirement already satisfied: packaging>=20.0 in /Users/joannechi/Library/Python/3.8/lib/python/site-packages (from transformers) (23.0)\n",
            "Requirement already satisfied: tqdm>=4.27 in /Library/Frameworks/Python.framework/Versions/3.8/lib/python3.8/site-packages (from transformers) (4.64.1)\n",
            "Requirement already satisfied: filelock in /Library/Frameworks/Python.framework/Versions/3.8/lib/python3.8/site-packages (from transformers) (3.8.0)\n",
            "Requirement already satisfied: pyyaml>=5.1 in /Library/Frameworks/Python.framework/Versions/3.8/lib/python3.8/site-packages (from transformers) (6.0)\n",
            "Requirement already satisfied: regex!=2019.12.17 in /Library/Frameworks/Python.framework/Versions/3.8/lib/python3.8/site-packages (from transformers) (2022.9.13)\n",
            "Requirement already satisfied: numpy>=1.17 in /Library/Frameworks/Python.framework/Versions/3.8/lib/python3.8/site-packages (from transformers) (1.23.5)\n",
            "Requirement already satisfied: requests in /Users/joannechi/Library/Python/3.8/lib/python/site-packages (from transformers) (2.28.1)\n",
            "Requirement already satisfied: huggingface-hub<1.0,>=0.9.0 in /Library/Frameworks/Python.framework/Versions/3.8/lib/python3.8/site-packages (from transformers) (0.13.3)\n",
            "Requirement already satisfied: tokenizers!=0.11.3,<0.13,>=0.11.1 in /Library/Frameworks/Python.framework/Versions/3.8/lib/python3.8/site-packages (from transformers) (0.12.1)\n",
            "Requirement already satisfied: dill<0.3.7,>=0.3.0 in /Library/Frameworks/Python.framework/Versions/3.8/lib/python3.8/site-packages (from datasets) (0.3.6)\n",
            "Requirement already satisfied: pyarrow>=8.0.0 in /Library/Frameworks/Python.framework/Versions/3.8/lib/python3.8/site-packages (from datasets) (9.0.0)\n",
            "Requirement already satisfied: responses<0.19 in /Library/Frameworks/Python.framework/Versions/3.8/lib/python3.8/site-packages (from datasets) (0.18.0)\n",
            "Requirement already satisfied: aiohttp in /Library/Frameworks/Python.framework/Versions/3.8/lib/python3.8/site-packages (from datasets) (3.8.4)\n",
            "Requirement already satisfied: multiprocess in /Library/Frameworks/Python.framework/Versions/3.8/lib/python3.8/site-packages (from datasets) (0.70.14)\n",
            "Requirement already satisfied: xxhash in /Library/Frameworks/Python.framework/Versions/3.8/lib/python3.8/site-packages (from datasets) (3.2.0)\n",
            "Requirement already satisfied: pandas in /Library/Frameworks/Python.framework/Versions/3.8/lib/python3.8/site-packages (from datasets) (1.5.0)\n",
            "Requirement already satisfied: fsspec[http]>=2021.11.1 in /Library/Frameworks/Python.framework/Versions/3.8/lib/python3.8/site-packages (from datasets) (2023.3.0)\n",
            "Requirement already satisfied: attrs>=17.3.0 in /Users/joannechi/Library/Python/3.8/lib/python/site-packages (from aiohttp->datasets) (22.2.0)\n",
            "Requirement already satisfied: yarl<2.0,>=1.0 in /Library/Frameworks/Python.framework/Versions/3.8/lib/python3.8/site-packages (from aiohttp->datasets) (1.8.2)\n",
            "Requirement already satisfied: async-timeout<5.0,>=4.0.0a3 in /Library/Frameworks/Python.framework/Versions/3.8/lib/python3.8/site-packages (from aiohttp->datasets) (4.0.2)\n",
            "Requirement already satisfied: aiosignal>=1.1.2 in /Library/Frameworks/Python.framework/Versions/3.8/lib/python3.8/site-packages (from aiohttp->datasets) (1.3.1)\n",
            "Requirement already satisfied: multidict<7.0,>=4.5 in /Library/Frameworks/Python.framework/Versions/3.8/lib/python3.8/site-packages (from aiohttp->datasets) (6.0.4)\n",
            "Requirement already satisfied: frozenlist>=1.1.1 in /Library/Frameworks/Python.framework/Versions/3.8/lib/python3.8/site-packages (from aiohttp->datasets) (1.3.3)\n",
            "Requirement already satisfied: charset-normalizer<4.0,>=2.0 in /Users/joannechi/Library/Python/3.8/lib/python/site-packages (from aiohttp->datasets) (2.1.1)\n",
            "Requirement already satisfied: typing-extensions>=3.7.4.3 in /Library/Frameworks/Python.framework/Versions/3.8/lib/python3.8/site-packages (from huggingface-hub<1.0,>=0.9.0->transformers) (4.3.0)\n",
            "Requirement already satisfied: certifi>=2017.4.17 in /Users/joannechi/Library/Python/3.8/lib/python/site-packages (from requests->transformers) (2022.12.7)\n",
            "Requirement already satisfied: urllib3<1.27,>=1.21.1 in /Users/joannechi/Library/Python/3.8/lib/python/site-packages (from requests->transformers) (1.26.13)\n",
            "Requirement already satisfied: idna<4,>=2.5 in /Users/joannechi/Library/Python/3.8/lib/python/site-packages (from requests->transformers) (3.4)\n",
            "Requirement already satisfied: python-dateutil>=2.8.1 in /Users/joannechi/Library/Python/3.8/lib/python/site-packages (from pandas->datasets) (2.8.2)\n",
            "Requirement already satisfied: pytz>=2020.1 in /Library/Frameworks/Python.framework/Versions/3.8/lib/python3.8/site-packages (from pandas->datasets) (2022.2.1)\n",
            "Requirement already satisfied: six>=1.5 in /Users/joannechi/Library/Python/3.8/lib/python/site-packages (from python-dateutil>=2.8.1->pandas->datasets) (1.16.0)\n"
          ]
        },
        {
          "name": "stderr",
          "output_type": "stream",
          "text": [
            "/Library/Frameworks/Python.framework/Versions/3.8/lib/python3.8/site-packages/tqdm/auto.py:22: TqdmWarning: IProgress not found. Please update jupyter and ipywidgets. See https://ipywidgets.readthedocs.io/en/stable/user_install.html\n",
            "  from .autonotebook import tqdm as notebook_tqdm\n"
          ]
        }
      ],
      "source": [
        "'''''\n",
        "Model source: https://huggingface.co/liam168/c2-roberta-base-finetuned-dianping-chinese/commit/952591d4ffb6df7b674eba74c4e2bb5dc9cb3128#d2h-611991\n",
        "'''''\n",
        "\n",
        "## 安裝模型\n",
        "!pip install transformers datasets\n",
        "\n",
        "## 載入模型 (請參考連結中的示範code)\n",
        "from transformers import AutoModelForSequenceClassification , AutoTokenizer, pipeline\n",
        "model_name = \"liam168/c2-roberta-base-finetuned-dianping-chinese\"\n",
        "class_num = 2\n",
        "model = AutoModelForSequenceClassification.from_pretrained(model_name, num_labels=class_num)\n",
        "tokenizer = AutoTokenizer.from_pretrained(model_name)\n",
        "\n",
        "## 載入classifier (請參考連結中的示範code)\n",
        "classifier = pipeline('sentiment-analysis', model=model, tokenizer=tokenizer)\n"
      ]
    },
    {
      "cell_type": "code",
      "execution_count": 14,
      "metadata": {},
      "outputs": [
        {
          "data": {
            "text/plain": [
              "[['還你一個清爽暢通的寶鼻(⁎⁍̴̛ᴗ⁍̴̛⁎)！❤️',\n",
              "  '還你一個清爽暢通的寶鼻(⁎⁍̴̛ᴗ⁍̴̛⁎)！ ',\n",
              "  '紅心',\n",
              "  '還你一個清爽暢通的寶鼻(⁎⁍̴̛ᴗ⁍̴̛⁎)！ _紅心'],\n",
              " ['為今日難吃的涼麵做個紀錄😤',\n",
              "  '為今日難吃的涼麵做個紀錄 ',\n",
              "  '臉上有蒸汽從鼻子裡冒出來',\n",
              "  '為今日難吃的涼麵做個紀錄 _臉上有蒸汽從鼻子裡冒出來'],\n",
              " ['前幾天的照片真的慘不忍睹😂', '前幾天的照片真的慘不忍睹 ', '滿臉喜悅的淚水', '前幾天的照片真的慘不忍睹 _滿臉喜悅的淚水'],\n",
              " ['🌟天婦羅（時蔬）', '天婦羅（時蔬） ', '發光的星星', '天婦羅（時蔬） _發光的星星'],\n",
              " ['看的真的是又愛又虐😍', '看的真的是又愛又虐', '心眼笑臉', '看的真的是又愛又虐_心眼笑臉']]"
            ]
          },
          "execution_count": 14,
          "metadata": {},
          "output_type": "execute_result"
        }
      ],
      "source": [
        "list_version = emoji_analysis.values.tolist()\n",
        "list_version[:5]"
      ]
    },
    {
      "cell_type": "code",
      "execution_count": 15,
      "metadata": {},
      "outputs": [
        {
          "data": {
            "text/plain": [
              "[['還你一個清爽暢通的寶鼻(⁎⁍̴̛ᴗ⁍̴̛⁎)！❤️',\n",
              "  '還你一個清爽暢通的寶鼻(⁎⁍̴̛ᴗ⁍̴̛⁎)！ ',\n",
              "  '紅心',\n",
              "  '還你一個清爽暢通的寶鼻(⁎⁍̴̛ᴗ⁍̴̛⁎)！ _紅心',\n",
              "  'positive',\n",
              "  'negative',\n",
              "  'positive'],\n",
              " ['為今日難吃的涼麵做個紀錄😤',\n",
              "  '為今日難吃的涼麵做個紀錄 ',\n",
              "  '臉上有蒸汽從鼻子裡冒出來',\n",
              "  '為今日難吃的涼麵做個紀錄 _臉上有蒸汽從鼻子裡冒出來',\n",
              "  'negative',\n",
              "  'positive',\n",
              "  'negative'],\n",
              " ['前幾天的照片真的慘不忍睹😂',\n",
              "  '前幾天的照片真的慘不忍睹 ',\n",
              "  '滿臉喜悅的淚水',\n",
              "  '前幾天的照片真的慘不忍睹 _滿臉喜悅的淚水',\n",
              "  'negative',\n",
              "  'negative',\n",
              "  'negative'],\n",
              " ['🌟天婦羅（時蔬）',\n",
              "  '天婦羅（時蔬） ',\n",
              "  '發光的星星',\n",
              "  '天婦羅（時蔬） _發光的星星',\n",
              "  'negative',\n",
              "  'positive',\n",
              "  'negative'],\n",
              " ['看的真的是又愛又虐😍',\n",
              "  '看的真的是又愛又虐',\n",
              "  '心眼笑臉',\n",
              "  '看的真的是又愛又虐_心眼笑臉',\n",
              "  'negative',\n",
              "  'positive',\n",
              "  'negative']]"
            ]
          },
          "execution_count": 15,
          "metadata": {},
          "output_type": "execute_result"
        }
      ],
      "source": [
        "sentiment_list = []\n",
        "for row in list_version:\n",
        "    text_only = classifier(row[1])\n",
        "    emo_only = classifier(row[2])\n",
        "    text_emoji = classifier(row[3])\n",
        "    \n",
        "    row.append(text_only[0]['label'])\n",
        "    row.append(emo_only[0]['label'])\n",
        "    row.append(text_emoji[0]['label'])\n",
        "    sentiment_list.append(row)\n",
        "sentiment_list[:5]\n",
        "\n"
      ]
    },
    {
      "cell_type": "code",
      "execution_count": 16,
      "metadata": {},
      "outputs": [
        {
          "data": {
            "text/html": [
              "<div>\n",
              "<style scoped>\n",
              "    .dataframe tbody tr th:only-of-type {\n",
              "        vertical-align: middle;\n",
              "    }\n",
              "\n",
              "    .dataframe tbody tr th {\n",
              "        vertical-align: top;\n",
              "    }\n",
              "\n",
              "    .dataframe thead th {\n",
              "        text-align: right;\n",
              "    }\n",
              "</style>\n",
              "<table border=\"1\" class=\"dataframe\">\n",
              "  <thead>\n",
              "    <tr style=\"text-align: right;\">\n",
              "      <th></th>\n",
              "      <th>sentence</th>\n",
              "      <th>text_only</th>\n",
              "      <th>emo_only</th>\n",
              "      <th>text_emoji</th>\n",
              "      <th>text_senti</th>\n",
              "      <th>emoji_senti</th>\n",
              "      <th>txt_emo_senti</th>\n",
              "    </tr>\n",
              "  </thead>\n",
              "  <tbody>\n",
              "    <tr>\n",
              "      <th>0</th>\n",
              "      <td>還你一個清爽暢通的寶鼻(⁎⁍̴̛ᴗ⁍̴̛⁎)！❤️</td>\n",
              "      <td>還你一個清爽暢通的寶鼻(⁎⁍̴̛ᴗ⁍̴̛⁎)！</td>\n",
              "      <td>紅心</td>\n",
              "      <td>還你一個清爽暢通的寶鼻(⁎⁍̴̛ᴗ⁍̴̛⁎)！ _紅心</td>\n",
              "      <td>positive</td>\n",
              "      <td>negative</td>\n",
              "      <td>positive</td>\n",
              "    </tr>\n",
              "    <tr>\n",
              "      <th>1</th>\n",
              "      <td>為今日難吃的涼麵做個紀錄😤</td>\n",
              "      <td>為今日難吃的涼麵做個紀錄</td>\n",
              "      <td>臉上有蒸汽從鼻子裡冒出來</td>\n",
              "      <td>為今日難吃的涼麵做個紀錄 _臉上有蒸汽從鼻子裡冒出來</td>\n",
              "      <td>negative</td>\n",
              "      <td>positive</td>\n",
              "      <td>negative</td>\n",
              "    </tr>\n",
              "    <tr>\n",
              "      <th>2</th>\n",
              "      <td>前幾天的照片真的慘不忍睹😂</td>\n",
              "      <td>前幾天的照片真的慘不忍睹</td>\n",
              "      <td>滿臉喜悅的淚水</td>\n",
              "      <td>前幾天的照片真的慘不忍睹 _滿臉喜悅的淚水</td>\n",
              "      <td>negative</td>\n",
              "      <td>negative</td>\n",
              "      <td>negative</td>\n",
              "    </tr>\n",
              "    <tr>\n",
              "      <th>3</th>\n",
              "      <td>🌟天婦羅（時蔬）</td>\n",
              "      <td>天婦羅（時蔬）</td>\n",
              "      <td>發光的星星</td>\n",
              "      <td>天婦羅（時蔬） _發光的星星</td>\n",
              "      <td>negative</td>\n",
              "      <td>positive</td>\n",
              "      <td>negative</td>\n",
              "    </tr>\n",
              "    <tr>\n",
              "      <th>4</th>\n",
              "      <td>看的真的是又愛又虐😍</td>\n",
              "      <td>看的真的是又愛又虐</td>\n",
              "      <td>心眼笑臉</td>\n",
              "      <td>看的真的是又愛又虐_心眼笑臉</td>\n",
              "      <td>negative</td>\n",
              "      <td>positive</td>\n",
              "      <td>negative</td>\n",
              "    </tr>\n",
              "  </tbody>\n",
              "</table>\n",
              "</div>"
            ],
            "text/plain": [
              "                    sentence                 text_only      emo_only  \\\n",
              "0  還你一個清爽暢通的寶鼻(⁎⁍̴̛ᴗ⁍̴̛⁎)！❤️  還你一個清爽暢通的寶鼻(⁎⁍̴̛ᴗ⁍̴̛⁎)！             紅心   \n",
              "1              為今日難吃的涼麵做個紀錄😤             為今日難吃的涼麵做個紀錄   臉上有蒸汽從鼻子裡冒出來   \n",
              "2              前幾天的照片真的慘不忍睹😂             前幾天的照片真的慘不忍睹        滿臉喜悅的淚水   \n",
              "3                   🌟天婦羅（時蔬）                  天婦羅（時蔬）          發光的星星   \n",
              "4                 看的真的是又愛又虐😍                 看的真的是又愛又虐          心眼笑臉   \n",
              "\n",
              "                    text_emoji text_senti emoji_senti txt_emo_senti  \n",
              "0  還你一個清爽暢通的寶鼻(⁎⁍̴̛ᴗ⁍̴̛⁎)！ _紅心   positive    negative      positive  \n",
              "1   為今日難吃的涼麵做個紀錄 _臉上有蒸汽從鼻子裡冒出來   negative    positive      negative  \n",
              "2        前幾天的照片真的慘不忍睹 _滿臉喜悅的淚水   negative    negative      negative  \n",
              "3               天婦羅（時蔬） _發光的星星   negative    positive      negative  \n",
              "4               看的真的是又愛又虐_心眼笑臉   negative    positive      negative  "
            ]
          },
          "execution_count": 16,
          "metadata": {},
          "output_type": "execute_result"
        }
      ],
      "source": [
        "sentiment_df = pd.DataFrame(sentiment_list, columns=['sentence', 'text_only', 'emo_only', 'text_emoji', 'text_senti', 'emoji_senti', 'txt_emo_senti'])\n",
        "sentiment_df.head()"
      ]
    },
    {
      "cell_type": "code",
      "execution_count": 17,
      "metadata": {
        "colab": {
          "base_uri": "https://localhost:8080/",
          "height": 143
        },
        "id": "BOS8VQSlJPcF",
        "outputId": "2b642932-703c-47b9-ec78-adae3b053d37"
      },
      "outputs": [],
      "source": [
        "## 回答範例 Contingency Table \n",
        "# 此處只顯示(text_senti, txt_emo_senti)這組的結果\n",
        "# ❗️❗️❗️❗️❗️❗️總共要輸出 3 組❗️❗️❗️❗️❗️❗️"
      ]
    },
    {
      "cell_type": "code",
      "execution_count": 17,
      "metadata": {},
      "outputs": [
        {
          "data": {
            "text/html": [
              "<div>\n",
              "<style scoped>\n",
              "    .dataframe tbody tr th:only-of-type {\n",
              "        vertical-align: middle;\n",
              "    }\n",
              "\n",
              "    .dataframe tbody tr th {\n",
              "        vertical-align: top;\n",
              "    }\n",
              "\n",
              "    .dataframe thead th {\n",
              "        text-align: right;\n",
              "    }\n",
              "</style>\n",
              "<table border=\"1\" class=\"dataframe\">\n",
              "  <thead>\n",
              "    <tr style=\"text-align: right;\">\n",
              "      <th>emoji_senti</th>\n",
              "      <th>negative</th>\n",
              "      <th>positive</th>\n",
              "    </tr>\n",
              "    <tr>\n",
              "      <th>text_senti</th>\n",
              "      <th></th>\n",
              "      <th></th>\n",
              "    </tr>\n",
              "  </thead>\n",
              "  <tbody>\n",
              "    <tr>\n",
              "      <th>negative</th>\n",
              "      <td>110</td>\n",
              "      <td>151</td>\n",
              "    </tr>\n",
              "    <tr>\n",
              "      <th>positive</th>\n",
              "      <td>224</td>\n",
              "      <td>514</td>\n",
              "    </tr>\n",
              "  </tbody>\n",
              "</table>\n",
              "</div>"
            ],
            "text/plain": [
              "emoji_senti  negative  positive\n",
              "text_senti                     \n",
              "negative          110       151\n",
              "positive          224       514"
            ]
          },
          "execution_count": 17,
          "metadata": {},
          "output_type": "execute_result"
        }
      ],
      "source": [
        "tb1 = pd.crosstab(sentiment_df['text_senti'], sentiment_df['emoji_senti'])\n",
        "tb1"
      ]
    },
    {
      "cell_type": "code",
      "execution_count": 18,
      "metadata": {},
      "outputs": [
        {
          "data": {
            "text/html": [
              "<div>\n",
              "<style scoped>\n",
              "    .dataframe tbody tr th:only-of-type {\n",
              "        vertical-align: middle;\n",
              "    }\n",
              "\n",
              "    .dataframe tbody tr th {\n",
              "        vertical-align: top;\n",
              "    }\n",
              "\n",
              "    .dataframe thead th {\n",
              "        text-align: right;\n",
              "    }\n",
              "</style>\n",
              "<table border=\"1\" class=\"dataframe\">\n",
              "  <thead>\n",
              "    <tr style=\"text-align: right;\">\n",
              "      <th>txt_emo_senti</th>\n",
              "      <th>negative</th>\n",
              "      <th>positive</th>\n",
              "    </tr>\n",
              "    <tr>\n",
              "      <th>emoji_senti</th>\n",
              "      <th></th>\n",
              "      <th></th>\n",
              "    </tr>\n",
              "  </thead>\n",
              "  <tbody>\n",
              "    <tr>\n",
              "      <th>negative</th>\n",
              "      <td>181</td>\n",
              "      <td>153</td>\n",
              "    </tr>\n",
              "    <tr>\n",
              "      <th>positive</th>\n",
              "      <td>106</td>\n",
              "      <td>559</td>\n",
              "    </tr>\n",
              "  </tbody>\n",
              "</table>\n",
              "</div>"
            ],
            "text/plain": [
              "txt_emo_senti  negative  positive\n",
              "emoji_senti                      \n",
              "negative            181       153\n",
              "positive            106       559"
            ]
          },
          "execution_count": 18,
          "metadata": {},
          "output_type": "execute_result"
        }
      ],
      "source": [
        "tb2 = pd.crosstab(sentiment_df['emoji_senti'], sentiment_df['txt_emo_senti'])\n",
        "tb2"
      ]
    },
    {
      "cell_type": "code",
      "execution_count": 19,
      "metadata": {},
      "outputs": [
        {
          "data": {
            "text/html": [
              "<div>\n",
              "<style scoped>\n",
              "    .dataframe tbody tr th:only-of-type {\n",
              "        vertical-align: middle;\n",
              "    }\n",
              "\n",
              "    .dataframe tbody tr th {\n",
              "        vertical-align: top;\n",
              "    }\n",
              "\n",
              "    .dataframe thead th {\n",
              "        text-align: right;\n",
              "    }\n",
              "</style>\n",
              "<table border=\"1\" class=\"dataframe\">\n",
              "  <thead>\n",
              "    <tr style=\"text-align: right;\">\n",
              "      <th>txt_emo_senti</th>\n",
              "      <th>negative</th>\n",
              "      <th>positive</th>\n",
              "    </tr>\n",
              "    <tr>\n",
              "      <th>text_senti</th>\n",
              "      <th></th>\n",
              "      <th></th>\n",
              "    </tr>\n",
              "  </thead>\n",
              "  <tbody>\n",
              "    <tr>\n",
              "      <th>negative</th>\n",
              "      <td>194</td>\n",
              "      <td>67</td>\n",
              "    </tr>\n",
              "    <tr>\n",
              "      <th>positive</th>\n",
              "      <td>93</td>\n",
              "      <td>645</td>\n",
              "    </tr>\n",
              "  </tbody>\n",
              "</table>\n",
              "</div>"
            ],
            "text/plain": [
              "txt_emo_senti  negative  positive\n",
              "text_senti                       \n",
              "negative            194        67\n",
              "positive             93       645"
            ]
          },
          "execution_count": 19,
          "metadata": {},
          "output_type": "execute_result"
        }
      ],
      "source": [
        "#(text_senti, txt_emo_senti)\n",
        "\n",
        "tb3 = pd.crosstab(sentiment_df['text_senti'], sentiment_df['txt_emo_senti'])\n",
        "tb3"
      ]
    },
    {
      "cell_type": "markdown",
      "metadata": {
        "id": "9DH9hHDmqBGo"
      },
      "source": [
        "\n",
        "\n",
        "---\n",
        "\n"
      ]
    },
    {
      "cell_type": "markdown",
      "metadata": {
        "id": "PRKDTu6OVQ6D"
      },
      "source": [
        "# 第三部分：衝突 emoji 詞頻"
      ]
    },
    {
      "cell_type": "markdown",
      "metadata": {
        "id": "63MysNwlJaaC"
      },
      "source": [
        "請你找出 `emoji_senti` 和 `txt_emo_senti` 兩個欄位被標成不同情緒的 text 們，並計算出現在這些 text 中的 emoji 的頻率。\n",
        "\n",
        "**最後用 DataFrame 列出最高頻的 10 個 emoji**\n",
        "\n",
        "\n",
        "\n",
        "```\n",
        "🔔 會用到的欄位: emo_only, emoji_senti, txt_emo_senti\n",
        "\n",
        "🔴 注意：若同個 text 中有多個 emoji，請將這些 emoji 分次都算進去 🔴 \n",
        "舉例來說， \n",
        "有一個 row 是 \"推坑大家🐹🐹\"\n",
        "他的 [emoji_senti] 是 positive、[txt_emo_senti] 是 negative\n",
        "所以這一筆 text 是符合我們要求的。\n",
        "\n",
        "由於他的 [emo_only] 欄位是 \"倉鼠,倉鼠\"\n",
        "計算頻率時 “倉鼠” 要被算到兩次。(而不是一次)\n",
        "```\n",
        "\n",
        "> 配分方式：20% (每一個emoji2%)"
      ]
    },
    {
      "cell_type": "code",
      "execution_count": 20,
      "metadata": {},
      "outputs": [
        {
          "data": {
            "text/html": [
              "<div>\n",
              "<style scoped>\n",
              "    .dataframe tbody tr th:only-of-type {\n",
              "        vertical-align: middle;\n",
              "    }\n",
              "\n",
              "    .dataframe tbody tr th {\n",
              "        vertical-align: top;\n",
              "    }\n",
              "\n",
              "    .dataframe thead th {\n",
              "        text-align: right;\n",
              "    }\n",
              "</style>\n",
              "<table border=\"1\" class=\"dataframe\">\n",
              "  <thead>\n",
              "    <tr style=\"text-align: right;\">\n",
              "      <th></th>\n",
              "      <th>sentence</th>\n",
              "      <th>text_only</th>\n",
              "      <th>emo_only</th>\n",
              "      <th>text_emoji</th>\n",
              "      <th>text_senti</th>\n",
              "      <th>emoji_senti</th>\n",
              "      <th>txt_emo_senti</th>\n",
              "    </tr>\n",
              "  </thead>\n",
              "  <tbody>\n",
              "    <tr>\n",
              "      <th>0</th>\n",
              "      <td>還你一個清爽暢通的寶鼻(⁎⁍̴̛ᴗ⁍̴̛⁎)！❤️</td>\n",
              "      <td>還你一個清爽暢通的寶鼻(⁎⁍̴̛ᴗ⁍̴̛⁎)！</td>\n",
              "      <td>紅心</td>\n",
              "      <td>還你一個清爽暢通的寶鼻(⁎⁍̴̛ᴗ⁍̴̛⁎)！ _紅心</td>\n",
              "      <td>positive</td>\n",
              "      <td>negative</td>\n",
              "      <td>positive</td>\n",
              "    </tr>\n",
              "    <tr>\n",
              "      <th>1</th>\n",
              "      <td>為今日難吃的涼麵做個紀錄😤</td>\n",
              "      <td>為今日難吃的涼麵做個紀錄</td>\n",
              "      <td>臉上有蒸汽從鼻子裡冒出來</td>\n",
              "      <td>為今日難吃的涼麵做個紀錄 _臉上有蒸汽從鼻子裡冒出來</td>\n",
              "      <td>negative</td>\n",
              "      <td>positive</td>\n",
              "      <td>negative</td>\n",
              "    </tr>\n",
              "    <tr>\n",
              "      <th>2</th>\n",
              "      <td>前幾天的照片真的慘不忍睹😂</td>\n",
              "      <td>前幾天的照片真的慘不忍睹</td>\n",
              "      <td>滿臉喜悅的淚水</td>\n",
              "      <td>前幾天的照片真的慘不忍睹 _滿臉喜悅的淚水</td>\n",
              "      <td>negative</td>\n",
              "      <td>negative</td>\n",
              "      <td>negative</td>\n",
              "    </tr>\n",
              "    <tr>\n",
              "      <th>3</th>\n",
              "      <td>🌟天婦羅（時蔬）</td>\n",
              "      <td>天婦羅（時蔬）</td>\n",
              "      <td>發光的星星</td>\n",
              "      <td>天婦羅（時蔬） _發光的星星</td>\n",
              "      <td>negative</td>\n",
              "      <td>positive</td>\n",
              "      <td>negative</td>\n",
              "    </tr>\n",
              "    <tr>\n",
              "      <th>4</th>\n",
              "      <td>看的真的是又愛又虐😍</td>\n",
              "      <td>看的真的是又愛又虐</td>\n",
              "      <td>心眼笑臉</td>\n",
              "      <td>看的真的是又愛又虐_心眼笑臉</td>\n",
              "      <td>negative</td>\n",
              "      <td>positive</td>\n",
              "      <td>negative</td>\n",
              "    </tr>\n",
              "  </tbody>\n",
              "</table>\n",
              "</div>"
            ],
            "text/plain": [
              "                    sentence                 text_only      emo_only  \\\n",
              "0  還你一個清爽暢通的寶鼻(⁎⁍̴̛ᴗ⁍̴̛⁎)！❤️  還你一個清爽暢通的寶鼻(⁎⁍̴̛ᴗ⁍̴̛⁎)！             紅心   \n",
              "1              為今日難吃的涼麵做個紀錄😤             為今日難吃的涼麵做個紀錄   臉上有蒸汽從鼻子裡冒出來   \n",
              "2              前幾天的照片真的慘不忍睹😂             前幾天的照片真的慘不忍睹        滿臉喜悅的淚水   \n",
              "3                   🌟天婦羅（時蔬）                  天婦羅（時蔬）          發光的星星   \n",
              "4                 看的真的是又愛又虐😍                 看的真的是又愛又虐          心眼笑臉   \n",
              "\n",
              "                    text_emoji text_senti emoji_senti txt_emo_senti  \n",
              "0  還你一個清爽暢通的寶鼻(⁎⁍̴̛ᴗ⁍̴̛⁎)！ _紅心   positive    negative      positive  \n",
              "1   為今日難吃的涼麵做個紀錄 _臉上有蒸汽從鼻子裡冒出來   negative    positive      negative  \n",
              "2        前幾天的照片真的慘不忍睹 _滿臉喜悅的淚水   negative    negative      negative  \n",
              "3               天婦羅（時蔬） _發光的星星   negative    positive      negative  \n",
              "4               看的真的是又愛又虐_心眼笑臉   negative    positive      negative  "
            ]
          },
          "execution_count": 20,
          "metadata": {},
          "output_type": "execute_result"
        }
      ],
      "source": [
        "sentiment_df.head()"
      ]
    },
    {
      "cell_type": "code",
      "execution_count": 21,
      "metadata": {},
      "outputs": [
        {
          "data": {
            "text/plain": [
              "[['還你一個清爽暢通的寶鼻(⁎⁍̴̛ᴗ⁍̴̛⁎)！❤️',\n",
              "  '還你一個清爽暢通的寶鼻(⁎⁍̴̛ᴗ⁍̴̛⁎)！ ',\n",
              "  '紅心',\n",
              "  '還你一個清爽暢通的寶鼻(⁎⁍̴̛ᴗ⁍̴̛⁎)！ _紅心',\n",
              "  'positive',\n",
              "  'negative',\n",
              "  'positive'],\n",
              " ['為今日難吃的涼麵做個紀錄😤',\n",
              "  '為今日難吃的涼麵做個紀錄 ',\n",
              "  '臉上有蒸汽從鼻子裡冒出來',\n",
              "  '為今日難吃的涼麵做個紀錄 _臉上有蒸汽從鼻子裡冒出來',\n",
              "  'negative',\n",
              "  'positive',\n",
              "  'negative'],\n",
              " ['前幾天的照片真的慘不忍睹😂',\n",
              "  '前幾天的照片真的慘不忍睹 ',\n",
              "  '滿臉喜悅的淚水',\n",
              "  '前幾天的照片真的慘不忍睹 _滿臉喜悅的淚水',\n",
              "  'negative',\n",
              "  'negative',\n",
              "  'negative'],\n",
              " ['🌟天婦羅（時蔬）',\n",
              "  '天婦羅（時蔬） ',\n",
              "  '發光的星星',\n",
              "  '天婦羅（時蔬） _發光的星星',\n",
              "  'negative',\n",
              "  'positive',\n",
              "  'negative'],\n",
              " ['看的真的是又愛又虐😍',\n",
              "  '看的真的是又愛又虐',\n",
              "  '心眼笑臉',\n",
              "  '看的真的是又愛又虐_心眼笑臉',\n",
              "  'negative',\n",
              "  'positive',\n",
              "  'negative']]"
            ]
          },
          "execution_count": 21,
          "metadata": {},
          "output_type": "execute_result"
        }
      ],
      "source": [
        "sentiment_list_version = sentiment_df.values.tolist()\n",
        "sentiment_list_version[:5]"
      ]
    },
    {
      "cell_type": "code",
      "execution_count": 22,
      "metadata": {},
      "outputs": [
        {
          "name": "stdout",
          "output_type": "stream",
          "text": [
            "Counter({'滿臉喜悅的淚水': 29, '紅心': 23, '懇求的臉': 15, '笑得在地上打滾': 13, '含淚的笑臉': 13, '汗流浹背的笑臉': 10, '大聲哭泣的臉': 6, '向下箭頭': 6, '手摀臉': 6, '咧著嘴笑的臉': 5, '一堆便便': 5, '圖釘': 4, '木頭': 4, '新月': 4, '反手指數向下': 4, '揚眉的臉': 3, '豎起大拇指': 3, '紅色感嘆號': 3, '男人聳肩': 3, '眨眼的臉': 3, '微微笑的臉': 3, '心驚呼': 3, '小藍鑽': 3, '櫻花': 3, '翻白眼': 3, '長著螺旋眼睛的臉': 3, '雪花': 3, '閃閃發光': 3, '發光的星星': 2, '心眼笑臉': 2, '放大鏡向左傾斜': 2, '中性臉': 2, '滑稽的臉': 2, '女人傾斜手較淺膚色': 2, '微笑的臉和微笑的眼睛': 2, '彎曲的二頭肌': 2, '右箭頭': 2, '臉紅了': 2, '爆炸頭': 2, '帶著墨鏡的笑臉': 2, '鬆了一口氣的臉': 2, '五彩紙屑球': 2, '傻笑的臉': 2, '臉上有蒸汽從鼻子裡冒出來': 1, '帶翅膀的錢': 1, '舉手的人': 1, '複選標記': 1, '噓臉': 1, '心臟著火': 1, '水滴': 1, '籃球': 1, '男人淺膚色白頭髮': 1, '沒有把手的茶杯': 1, '腿部淺膚色': 1, '圓形圖釘': 1, '向上箭頭': 1, '雙感嘆號': 1, '敬禮的臉': 1, '軟冰淇淋': 1, '錘子': 1, '殘月': 1, '用舌頭瞇著臉': 1, '三角旗': 1, '白色感嘆號': 1, '白心': 1, '飛碟': 1, '齒': 1, '放大鏡向右傾斜': 1, '雙手合十': 1, '山': 1, '旋轉的心': 1, '滿月臉': 1, '刺猬': 1, '黑心': 1, '落葉喬木': 1, '鯊魚': 1, '鬼': 1, '親臉': 1, '派對臉': 1, '黃心': 1, '有傘的海灘': 1, '思考的臉': 1, '彩虹': 1, '黑色小方塊': 1, '霸王龍': 1, '眼睛打叉的臉': 1, '笑臉': 1, '嚇得尖叫的臉': 1, '顛倒的臉': 1, '打開書': 1, '十字標記': 1, '微笑的面孔': 1, '指數朝上 中淺膚色': 1, '聳肩的人': 1, '鴨子': 1, 'OK手淺膚色': 1, '狼': 1, '微笑的眼睛咧嘴笑的貓': 1, '嘴上有符號的臉': 1, '汽車': 1, '強忍淚水的臉': 1, '女廚師淺膚色': 1, '鍵帽8': 1, '錢袋子': 1, '夫婦與心臟女人男人': 1, '碰撞': 1, '警告': 1, '手拉手的女人淺膚色': 1, '書呆子臉': 1, '沉思的臉': 1, '鍵帽 7': 1, '複選框與檢查': 1, '藝術家調色板': 1, '糖果': 1, '食指和拇指交叉的手中深膚色': 1, '閃閃發光的心': 1, '舉手的男人淺膚色': 1, '拍手 淺膚色': 1, '沒有嘴巴的臉': 1, '哭泣的貓': 1, '反手指數指向右': 1, '七夕樹': 1, '眼睛': 1, '橙心': 1, '好的手': 1, '打噴嚏的臉': 1, '男生': 1, '玫瑰': 1, '加': 1, '爆裂瓶': 1, '下一首曲目按鈕': 1, '帶角的笑臉': 1, '汗滴': 1})\n"
          ]
        }
      ],
      "source": [
        "#計算衝突 emoji 詞頻\n",
        "from collections import Counter\n",
        "\n",
        "frq_list = []\n",
        "for row in sentiment_list_version:\n",
        "    if row[5]!=row[6]:\n",
        "        split_items = row[2].split(', ')\n",
        "        for split_item in split_items:\n",
        "            word = split_item.strip()\n",
        "            if word:\n",
        "                frq_list.append(word)\n",
        "\n",
        "\n",
        "word_counts = Counter(frq_list)\n",
        "print(word_counts)\n"
      ]
    },
    {
      "cell_type": "code",
      "execution_count": 26,
      "metadata": {},
      "outputs": [
        {
          "data": {
            "text/html": [
              "<div>\n",
              "<style scoped>\n",
              "    .dataframe tbody tr th:only-of-type {\n",
              "        vertical-align: middle;\n",
              "    }\n",
              "\n",
              "    .dataframe tbody tr th {\n",
              "        vertical-align: top;\n",
              "    }\n",
              "\n",
              "    .dataframe thead th {\n",
              "        text-align: right;\n",
              "    }\n",
              "</style>\n",
              "<table border=\"1\" class=\"dataframe\">\n",
              "  <thead>\n",
              "    <tr style=\"text-align: right;\">\n",
              "      <th></th>\n",
              "      <th>emoji</th>\n",
              "      <th>counts</th>\n",
              "    </tr>\n",
              "  </thead>\n",
              "  <tbody>\n",
              "    <tr>\n",
              "      <th>9</th>\n",
              "      <td>滿臉喜悅的淚水</td>\n",
              "      <td>29</td>\n",
              "    </tr>\n",
              "    <tr>\n",
              "      <th>0</th>\n",
              "      <td>紅心</td>\n",
              "      <td>23</td>\n",
              "    </tr>\n",
              "    <tr>\n",
              "      <th>6</th>\n",
              "      <td>懇求的臉</td>\n",
              "      <td>15</td>\n",
              "    </tr>\n",
              "    <tr>\n",
              "      <th>19</th>\n",
              "      <td>含淚的笑臉</td>\n",
              "      <td>13</td>\n",
              "    </tr>\n",
              "    <tr>\n",
              "      <th>5</th>\n",
              "      <td>笑得在地上打滾</td>\n",
              "      <td>13</td>\n",
              "    </tr>\n",
              "    <tr>\n",
              "      <th>32</th>\n",
              "      <td>汗流浹背的笑臉</td>\n",
              "      <td>10</td>\n",
              "    </tr>\n",
              "    <tr>\n",
              "      <th>41</th>\n",
              "      <td>大聲哭泣的臉</td>\n",
              "      <td>6</td>\n",
              "    </tr>\n",
              "    <tr>\n",
              "      <th>61</th>\n",
              "      <td>手摀臉</td>\n",
              "      <td>6</td>\n",
              "    </tr>\n",
              "    <tr>\n",
              "      <th>47</th>\n",
              "      <td>向下箭頭</td>\n",
              "      <td>6</td>\n",
              "    </tr>\n",
              "    <tr>\n",
              "      <th>129</th>\n",
              "      <td>一堆便便</td>\n",
              "      <td>5</td>\n",
              "    </tr>\n",
              "  </tbody>\n",
              "</table>\n",
              "</div>"
            ],
            "text/plain": [
              "       emoji  counts\n",
              "9    滿臉喜悅的淚水      29\n",
              "0         紅心      23\n",
              "6       懇求的臉      15\n",
              "19     含淚的笑臉      13\n",
              "5    笑得在地上打滾      13\n",
              "32   汗流浹背的笑臉      10\n",
              "41    大聲哭泣的臉       6\n",
              "61       手摀臉       6\n",
              "47      向下箭頭       6\n",
              "129     一堆便便       5"
            ]
          },
          "execution_count": 26,
          "metadata": {},
          "output_type": "execute_result"
        }
      ],
      "source": [
        "#轉乘dataframe，並找出前十名\n",
        "counts = pd.DataFrame(word_counts.items(), columns=['emoji', 'counts'])\n",
        "counts.sort_values(\"counts\",inplace=True, ascending = False)\n",
        "counts.head(10)"
      ]
    },
    {
      "cell_type": "markdown",
      "metadata": {
        "id": "yZejihD3dhrc"
      },
      "source": [
        "# BONUS (10分）\n",
        "\n",
        "試著提出一個可行的pipeline（不需寫出真實code 但也不要是空泛的概念）\n",
        "\n",
        "這個 pipeline要抓出「以emoji造成諷刺效果」的句子，\n",
        "\n",
        "也就是句子要保留emoji、必須辨識出哪些句子存在諷刺\n",
        "\n",
        "(e.g., \"我覺得他們做得很好欸🤗\", \"哇真厲害🙄\"）\n",
        "\n",
        "> 也可以使用 chatGPT，說不定他能提供非常有用的意見喔😇😇😇\n"
      ]
    }
  ],
  "metadata": {
    "colab": {
      "provenance": []
    },
    "gpuClass": "standard",
    "kernelspec": {
      "display_name": "Python 3",
      "name": "python3"
    },
    "language_info": {
      "codemirror_mode": {
        "name": "ipython",
        "version": 3
      },
      "file_extension": ".py",
      "mimetype": "text/x-python",
      "name": "python",
      "nbconvert_exporter": "python",
      "pygments_lexer": "ipython3",
      "version": "3.8.10"
    }
  },
  "nbformat": 4,
  "nbformat_minor": 0
}
